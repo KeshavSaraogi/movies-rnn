{
 "cells": [
  {
   "cell_type": "code",
   "execution_count": 1,
   "metadata": {},
   "outputs": [],
   "source": [
    "# Import necessary libraries\n",
    "from tensorflow.keras.layers import Embedding\n",
    "from tensorflow.keras.preprocessing.text import one_hot\n",
    "from tensorflow.keras.utils import pad_sequences\n",
    "from tensorflow.keras.models import Sequential\n",
    "import numpy as np"
   ]
  },
  {
   "cell_type": "code",
   "execution_count": 2,
   "metadata": {},
   "outputs": [],
   "source": [
    "# Define sentences\n",
    "\n",
    "sentences = [\n",
    "     'the glass of milk', \n",
    "     'the glass of juice', \n",
    "     'the cup of tea', \n",
    "     'I am a good boy', \n",
    "     'I am a good developer', \n",
    "     'understand the meaning of words', \n",
    "     'your videos are good', \n",
    "     'how are you'\n",
    "]"
   ]
  },
  {
   "cell_type": "code",
   "execution_count": 3,
   "metadata": {},
   "outputs": [
    {
     "data": {
      "text/plain": [
       "['the glass of milk',\n",
       " 'the glass of juice',\n",
       " 'the cup of tea',\n",
       " 'I am a good boy',\n",
       " 'I am a good developer',\n",
       " 'understand the meaning of words',\n",
       " 'your videos are good',\n",
       " 'how are you']"
      ]
     },
     "execution_count": 3,
     "metadata": {},
     "output_type": "execute_result"
    }
   ],
   "source": [
    "sentences"
   ]
  },
  {
   "cell_type": "code",
   "execution_count": 4,
   "metadata": {},
   "outputs": [],
   "source": [
    "vocabularySize = 10000"
   ]
  },
  {
   "cell_type": "code",
   "execution_count": 5,
   "metadata": {},
   "outputs": [
    {
     "name": "stdout",
     "output_type": "stream",
     "text": [
      "One Hot Encoded Representation: [[4555, 5700, 8285, 7949], [4555, 5700, 8285, 3783], [4555, 2423, 8285, 1857], [3018, 8128, 8839, 1674, 7593], [3018, 8128, 8839, 1674, 8882], [9489, 4555, 8011, 8285, 2777], [449, 7056, 1150, 1674], [1652, 1150, 6749]]\n"
     ]
    }
   ],
   "source": [
    "oneHotRepresentation = [one_hot(words, vocabularySize) for words in sentences]\n",
    "print(\"One Hot Encoded Representation:\", oneHotRepresentation)"
   ]
  },
  {
   "cell_type": "code",
   "execution_count": 6,
   "metadata": {},
   "outputs": [
    {
     "name": "stdout",
     "output_type": "stream",
     "text": [
      "Padded Sequences: [[   0    0    0    0 4555 5700 8285 7949]\n",
      " [   0    0    0    0 4555 5700 8285 3783]\n",
      " [   0    0    0    0 4555 2423 8285 1857]\n",
      " [   0    0    0 3018 8128 8839 1674 7593]\n",
      " [   0    0    0 3018 8128 8839 1674 8882]\n",
      " [   0    0    0 9489 4555 8011 8285 2777]\n",
      " [   0    0    0    0  449 7056 1150 1674]\n",
      " [   0    0    0    0    0 1652 1150 6749]]\n"
     ]
    }
   ],
   "source": [
    "sentenceLength = 8\n",
    "\n",
    "embeddedDocuments = pad_sequences(\n",
    "    oneHotRepresentation, \n",
    "    padding = 'pre', \n",
    "    maxlen = sentenceLength\n",
    ")\n",
    "\n",
    "print(\"Padded Sequences:\", embeddedDocuments)"
   ]
  },
  {
   "cell_type": "code",
   "execution_count": 7,
   "metadata": {},
   "outputs": [],
   "source": [
    "embeddingDimensions = 10"
   ]
  },
  {
   "cell_type": "code",
   "execution_count": 8,
   "metadata": {},
   "outputs": [
    {
     "name": "stderr",
     "output_type": "stream",
     "text": [
      "/Users/keshavsaraogi/code/rnn/movies-rnn/tf-macos-env/lib/python3.11/site-packages/keras/src/layers/core/embedding.py:90: UserWarning: Argument `input_length` is deprecated. Just remove it.\n",
      "  warnings.warn(\n",
      "2025-02-15 19:32:02.497537: I metal_plugin/src/device/metal_device.cc:1154] Metal device set to: Apple M1 Pro\n",
      "2025-02-15 19:32:02.497566: I metal_plugin/src/device/metal_device.cc:296] systemMemory: 16.00 GB\n",
      "2025-02-15 19:32:02.497571: I metal_plugin/src/device/metal_device.cc:313] maxCacheSize: 5.33 GB\n",
      "2025-02-15 19:32:02.497589: I tensorflow/core/common_runtime/pluggable_device/pluggable_device_factory.cc:305] Could not identify NUMA node of platform GPU ID 0, defaulting to 0. Your kernel may not have been built with NUMA support.\n",
      "2025-02-15 19:32:02.497600: I tensorflow/core/common_runtime/pluggable_device/pluggable_device_factory.cc:271] Created TensorFlow device (/job:localhost/replica:0/task:0/device:GPU:0 with 0 MB memory) -> physical PluggableDevice (device: 0, name: METAL, pci bus id: <undefined>)\n"
     ]
    }
   ],
   "source": [
    "model = Sequential()\n",
    "model.add(\n",
    "    Embedding(\n",
    "        vocabularySize, \n",
    "        embeddingDimensions, \n",
    "        input_length = sentenceLength\n",
    "        )\n",
    "    )\n",
    "\n",
    "model.compile(\n",
    "    optimizer='adam', \n",
    "    loss='mse'\n",
    ")"
   ]
  },
  {
   "cell_type": "code",
   "execution_count": 9,
   "metadata": {},
   "outputs": [
    {
     "data": {
      "text/html": [
       "<pre style=\"white-space:pre;overflow-x:auto;line-height:normal;font-family:Menlo,'DejaVu Sans Mono',consolas,'Courier New',monospace\"><span style=\"font-weight: bold\">Model: \"sequential\"</span>\n",
       "</pre>\n"
      ],
      "text/plain": [
       "\u001b[1mModel: \"sequential\"\u001b[0m\n"
      ]
     },
     "metadata": {},
     "output_type": "display_data"
    },
    {
     "data": {
      "text/html": [
       "<pre style=\"white-space:pre;overflow-x:auto;line-height:normal;font-family:Menlo,'DejaVu Sans Mono',consolas,'Courier New',monospace\">┏━━━━━━━━━━━━━━━━━━━━━━━━━━━━━━━━━┳━━━━━━━━━━━━━━━━━━━━━━━━┳━━━━━━━━━━━━━━━┓\n",
       "┃<span style=\"font-weight: bold\"> Layer (type)                    </span>┃<span style=\"font-weight: bold\"> Output Shape           </span>┃<span style=\"font-weight: bold\">       Param # </span>┃\n",
       "┡━━━━━━━━━━━━━━━━━━━━━━━━━━━━━━━━━╇━━━━━━━━━━━━━━━━━━━━━━━━╇━━━━━━━━━━━━━━━┩\n",
       "│ embedding (<span style=\"color: #0087ff; text-decoration-color: #0087ff\">Embedding</span>)           │ ?                      │   <span style=\"color: #00af00; text-decoration-color: #00af00\">0</span> (unbuilt) │\n",
       "└─────────────────────────────────┴────────────────────────┴───────────────┘\n",
       "</pre>\n"
      ],
      "text/plain": [
       "┏━━━━━━━━━━━━━━━━━━━━━━━━━━━━━━━━━┳━━━━━━━━━━━━━━━━━━━━━━━━┳━━━━━━━━━━━━━━━┓\n",
       "┃\u001b[1m \u001b[0m\u001b[1mLayer (type)                   \u001b[0m\u001b[1m \u001b[0m┃\u001b[1m \u001b[0m\u001b[1mOutput Shape          \u001b[0m\u001b[1m \u001b[0m┃\u001b[1m \u001b[0m\u001b[1m      Param #\u001b[0m\u001b[1m \u001b[0m┃\n",
       "┡━━━━━━━━━━━━━━━━━━━━━━━━━━━━━━━━━╇━━━━━━━━━━━━━━━━━━━━━━━━╇━━━━━━━━━━━━━━━┩\n",
       "│ embedding (\u001b[38;5;33mEmbedding\u001b[0m)           │ ?                      │   \u001b[38;5;34m0\u001b[0m (unbuilt) │\n",
       "└─────────────────────────────────┴────────────────────────┴───────────────┘\n"
      ]
     },
     "metadata": {},
     "output_type": "display_data"
    },
    {
     "data": {
      "text/html": [
       "<pre style=\"white-space:pre;overflow-x:auto;line-height:normal;font-family:Menlo,'DejaVu Sans Mono',consolas,'Courier New',monospace\"><span style=\"font-weight: bold\"> Total params: </span><span style=\"color: #00af00; text-decoration-color: #00af00\">0</span> (0.00 B)\n",
       "</pre>\n"
      ],
      "text/plain": [
       "\u001b[1m Total params: \u001b[0m\u001b[38;5;34m0\u001b[0m (0.00 B)\n"
      ]
     },
     "metadata": {},
     "output_type": "display_data"
    },
    {
     "data": {
      "text/html": [
       "<pre style=\"white-space:pre;overflow-x:auto;line-height:normal;font-family:Menlo,'DejaVu Sans Mono',consolas,'Courier New',monospace\"><span style=\"font-weight: bold\"> Trainable params: </span><span style=\"color: #00af00; text-decoration-color: #00af00\">0</span> (0.00 B)\n",
       "</pre>\n"
      ],
      "text/plain": [
       "\u001b[1m Trainable params: \u001b[0m\u001b[38;5;34m0\u001b[0m (0.00 B)\n"
      ]
     },
     "metadata": {},
     "output_type": "display_data"
    },
    {
     "data": {
      "text/html": [
       "<pre style=\"white-space:pre;overflow-x:auto;line-height:normal;font-family:Menlo,'DejaVu Sans Mono',consolas,'Courier New',monospace\"><span style=\"font-weight: bold\"> Non-trainable params: </span><span style=\"color: #00af00; text-decoration-color: #00af00\">0</span> (0.00 B)\n",
       "</pre>\n"
      ],
      "text/plain": [
       "\u001b[1m Non-trainable params: \u001b[0m\u001b[38;5;34m0\u001b[0m (0.00 B)\n"
      ]
     },
     "metadata": {},
     "output_type": "display_data"
    }
   ],
   "source": [
    "model.summary()"
   ]
  },
  {
   "cell_type": "code",
   "execution_count": 10,
   "metadata": {},
   "outputs": [
    {
     "data": {
      "text/plain": [
       "array([   0,    0,    0,    0, 4555, 5700, 8285, 7949], dtype=int32)"
      ]
     },
     "execution_count": 10,
     "metadata": {},
     "output_type": "execute_result"
    }
   ],
   "source": [
    "embeddedDocuments[0]"
   ]
  },
  {
   "cell_type": "code",
   "execution_count": 11,
   "metadata": {},
   "outputs": [
    {
     "name": "stderr",
     "output_type": "stream",
     "text": [
      "2025-02-15 19:32:02.670587: I tensorflow/core/grappler/optimizers/custom_graph_optimizer_registry.cc:117] Plugin optimizer for device_type GPU is enabled.\n"
     ]
    },
    {
     "name": "stdout",
     "output_type": "stream",
     "text": [
      "\u001b[1m1/1\u001b[0m \u001b[32m━━━━━━━━━━━━━━━━━━━━\u001b[0m\u001b[37m\u001b[0m \u001b[1m0s\u001b[0m 86ms/step\n"
     ]
    }
   ],
   "source": [
    "# Predict using the trained model\n",
    "\n",
    "prediction = model.predict(embeddedDocuments)"
   ]
  },
  {
   "cell_type": "code",
   "execution_count": 12,
   "metadata": {},
   "outputs": [
    {
     "name": "stdout",
     "output_type": "stream",
     "text": [
      "Predictions: [[[ 1.1319708e-02 -4.1946255e-02  5.1148906e-03 -1.0562398e-02\n",
      "   -4.1208901e-02 -4.3859687e-02  7.1978457e-03  4.9572680e-02\n",
      "    3.8154829e-02  2.6508000e-02]\n",
      "  [ 1.1319708e-02 -4.1946255e-02  5.1148906e-03 -1.0562398e-02\n",
      "   -4.1208901e-02 -4.3859687e-02  7.1978457e-03  4.9572680e-02\n",
      "    3.8154829e-02  2.6508000e-02]\n",
      "  [ 1.1319708e-02 -4.1946255e-02  5.1148906e-03 -1.0562398e-02\n",
      "   -4.1208901e-02 -4.3859687e-02  7.1978457e-03  4.9572680e-02\n",
      "    3.8154829e-02  2.6508000e-02]\n",
      "  [ 1.1319708e-02 -4.1946255e-02  5.1148906e-03 -1.0562398e-02\n",
      "   -4.1208901e-02 -4.3859687e-02  7.1978457e-03  4.9572680e-02\n",
      "    3.8154829e-02  2.6508000e-02]\n",
      "  [ 4.1879799e-02 -6.1360113e-03  4.0982638e-02 -1.7715834e-02\n",
      "   -3.4400381e-02 -1.1464465e-02 -3.4655798e-02  3.9976347e-02\n",
      "    3.6352504e-02  4.2302981e-03]\n",
      "  [ 4.6680953e-02  4.5958605e-02 -1.4317609e-02  7.4266419e-03\n",
      "    2.1642078e-02  4.5579102e-02 -3.1694971e-02  3.1740632e-02\n",
      "    4.5214605e-02  4.7487233e-02]\n",
      "  [-3.3751018e-03  1.7475430e-02 -1.3257217e-02  3.7441682e-02\n",
      "    2.6178863e-02  3.0443978e-02  2.9798236e-02 -8.7810159e-03\n",
      "    1.3033140e-02 -4.3279447e-02]\n",
      "  [-2.6484061e-02  3.7646804e-02 -2.0818187e-02  6.8079308e-04\n",
      "   -2.2010697e-02  2.7192067e-02  1.8995516e-03  6.5576658e-03\n",
      "   -3.5264291e-02  4.0781748e-02]]\n",
      "\n",
      " [[ 1.1319708e-02 -4.1946255e-02  5.1148906e-03 -1.0562398e-02\n",
      "   -4.1208901e-02 -4.3859687e-02  7.1978457e-03  4.9572680e-02\n",
      "    3.8154829e-02  2.6508000e-02]\n",
      "  [ 1.1319708e-02 -4.1946255e-02  5.1148906e-03 -1.0562398e-02\n",
      "   -4.1208901e-02 -4.3859687e-02  7.1978457e-03  4.9572680e-02\n",
      "    3.8154829e-02  2.6508000e-02]\n",
      "  [ 1.1319708e-02 -4.1946255e-02  5.1148906e-03 -1.0562398e-02\n",
      "   -4.1208901e-02 -4.3859687e-02  7.1978457e-03  4.9572680e-02\n",
      "    3.8154829e-02  2.6508000e-02]\n",
      "  [ 1.1319708e-02 -4.1946255e-02  5.1148906e-03 -1.0562398e-02\n",
      "   -4.1208901e-02 -4.3859687e-02  7.1978457e-03  4.9572680e-02\n",
      "    3.8154829e-02  2.6508000e-02]\n",
      "  [ 4.1879799e-02 -6.1360113e-03  4.0982638e-02 -1.7715834e-02\n",
      "   -3.4400381e-02 -1.1464465e-02 -3.4655798e-02  3.9976347e-02\n",
      "    3.6352504e-02  4.2302981e-03]\n",
      "  [ 4.6680953e-02  4.5958605e-02 -1.4317609e-02  7.4266419e-03\n",
      "    2.1642078e-02  4.5579102e-02 -3.1694971e-02  3.1740632e-02\n",
      "    4.5214605e-02  4.7487233e-02]\n",
      "  [-3.3751018e-03  1.7475430e-02 -1.3257217e-02  3.7441682e-02\n",
      "    2.6178863e-02  3.0443978e-02  2.9798236e-02 -8.7810159e-03\n",
      "    1.3033140e-02 -4.3279447e-02]\n",
      "  [ 1.8385399e-02 -4.0703677e-02  2.0931873e-02  3.4399655e-02\n",
      "    4.4021938e-02  8.3809718e-03  3.7025657e-02 -3.4951460e-02\n",
      "   -4.7619011e-02 -5.2573904e-03]]\n",
      "\n",
      " [[ 1.1319708e-02 -4.1946255e-02  5.1148906e-03 -1.0562398e-02\n",
      "   -4.1208901e-02 -4.3859687e-02  7.1978457e-03  4.9572680e-02\n",
      "    3.8154829e-02  2.6508000e-02]\n",
      "  [ 1.1319708e-02 -4.1946255e-02  5.1148906e-03 -1.0562398e-02\n",
      "   -4.1208901e-02 -4.3859687e-02  7.1978457e-03  4.9572680e-02\n",
      "    3.8154829e-02  2.6508000e-02]\n",
      "  [ 1.1319708e-02 -4.1946255e-02  5.1148906e-03 -1.0562398e-02\n",
      "   -4.1208901e-02 -4.3859687e-02  7.1978457e-03  4.9572680e-02\n",
      "    3.8154829e-02  2.6508000e-02]\n",
      "  [ 1.1319708e-02 -4.1946255e-02  5.1148906e-03 -1.0562398e-02\n",
      "   -4.1208901e-02 -4.3859687e-02  7.1978457e-03  4.9572680e-02\n",
      "    3.8154829e-02  2.6508000e-02]\n",
      "  [ 4.1879799e-02 -6.1360113e-03  4.0982638e-02 -1.7715834e-02\n",
      "   -3.4400381e-02 -1.1464465e-02 -3.4655798e-02  3.9976347e-02\n",
      "    3.6352504e-02  4.2302981e-03]\n",
      "  [-2.4580538e-02  3.3763424e-03 -3.1495739e-02  1.2293942e-03\n",
      "   -2.6582707e-02 -3.5486676e-02 -4.0705688e-03  4.0420149e-02\n",
      "    1.8181317e-03 -4.9186852e-02]\n",
      "  [-3.3751018e-03  1.7475430e-02 -1.3257217e-02  3.7441682e-02\n",
      "    2.6178863e-02  3.0443978e-02  2.9798236e-02 -8.7810159e-03\n",
      "    1.3033140e-02 -4.3279447e-02]\n",
      "  [ 2.9219460e-02 -4.3982185e-02 -1.5043102e-02 -2.4886250e-02\n",
      "    4.7241691e-02 -2.4059964e-02 -1.1365913e-02  2.8714165e-03\n",
      "    1.7404903e-02 -1.0140538e-03]]\n",
      "\n",
      " [[ 1.1319708e-02 -4.1946255e-02  5.1148906e-03 -1.0562398e-02\n",
      "   -4.1208901e-02 -4.3859687e-02  7.1978457e-03  4.9572680e-02\n",
      "    3.8154829e-02  2.6508000e-02]\n",
      "  [ 1.1319708e-02 -4.1946255e-02  5.1148906e-03 -1.0562398e-02\n",
      "   -4.1208901e-02 -4.3859687e-02  7.1978457e-03  4.9572680e-02\n",
      "    3.8154829e-02  2.6508000e-02]\n",
      "  [ 1.1319708e-02 -4.1946255e-02  5.1148906e-03 -1.0562398e-02\n",
      "   -4.1208901e-02 -4.3859687e-02  7.1978457e-03  4.9572680e-02\n",
      "    3.8154829e-02  2.6508000e-02]\n",
      "  [ 4.1860033e-02 -4.2338755e-02 -2.4162663e-02 -1.3063550e-03\n",
      "   -1.3536669e-02 -3.7379362e-02 -2.2019137e-02  4.7887314e-02\n",
      "    1.4532123e-02 -2.0777656e-02]\n",
      "  [ 2.8041851e-02  4.2618658e-02 -1.5460134e-02  4.1058253e-02\n",
      "   -2.1609843e-02  3.9504912e-02  4.6585608e-02 -3.8073882e-03\n",
      "   -1.9884968e-02  3.3972535e-02]\n",
      "  [-2.9926492e-02 -5.2105412e-03 -6.5527335e-03 -4.0743507e-02\n",
      "   -1.8992592e-02  3.8670924e-02 -1.7407190e-02 -4.9956121e-02\n",
      "    3.7659500e-02  4.4748630e-02]\n",
      "  [ 4.6040621e-02 -3.2993425e-02 -3.1653680e-02  3.3098724e-02\n",
      "    3.1781804e-02 -3.9656270e-02  4.6812680e-02 -8.1007555e-04\n",
      "    4.0550139e-02  8.0475695e-03]\n",
      "  [-1.9965982e-02 -3.0958271e-02  3.6699865e-02 -2.1210397e-02\n",
      "    2.5314603e-02  3.0816045e-02  2.2614684e-02  1.7396186e-02\n",
      "   -4.8898973e-02 -1.3821721e-03]]\n",
      "\n",
      " [[ 1.1319708e-02 -4.1946255e-02  5.1148906e-03 -1.0562398e-02\n",
      "   -4.1208901e-02 -4.3859687e-02  7.1978457e-03  4.9572680e-02\n",
      "    3.8154829e-02  2.6508000e-02]\n",
      "  [ 1.1319708e-02 -4.1946255e-02  5.1148906e-03 -1.0562398e-02\n",
      "   -4.1208901e-02 -4.3859687e-02  7.1978457e-03  4.9572680e-02\n",
      "    3.8154829e-02  2.6508000e-02]\n",
      "  [ 1.1319708e-02 -4.1946255e-02  5.1148906e-03 -1.0562398e-02\n",
      "   -4.1208901e-02 -4.3859687e-02  7.1978457e-03  4.9572680e-02\n",
      "    3.8154829e-02  2.6508000e-02]\n",
      "  [ 4.1860033e-02 -4.2338755e-02 -2.4162663e-02 -1.3063550e-03\n",
      "   -1.3536669e-02 -3.7379362e-02 -2.2019137e-02  4.7887314e-02\n",
      "    1.4532123e-02 -2.0777656e-02]\n",
      "  [ 2.8041851e-02  4.2618658e-02 -1.5460134e-02  4.1058253e-02\n",
      "   -2.1609843e-02  3.9504912e-02  4.6585608e-02 -3.8073882e-03\n",
      "   -1.9884968e-02  3.3972535e-02]\n",
      "  [-2.9926492e-02 -5.2105412e-03 -6.5527335e-03 -4.0743507e-02\n",
      "   -1.8992592e-02  3.8670924e-02 -1.7407190e-02 -4.9956121e-02\n",
      "    3.7659500e-02  4.4748630e-02]\n",
      "  [ 4.6040621e-02 -3.2993425e-02 -3.1653680e-02  3.3098724e-02\n",
      "    3.1781804e-02 -3.9656270e-02  4.6812680e-02 -8.1007555e-04\n",
      "    4.0550139e-02  8.0475695e-03]\n",
      "  [-3.2739092e-02  3.8680021e-02 -3.0171787e-02 -4.5707114e-03\n",
      "   -3.4431837e-02 -2.9055024e-02  1.8456999e-02 -1.3543807e-02\n",
      "    3.6525894e-02  4.4414233e-02]]\n",
      "\n",
      " [[ 1.1319708e-02 -4.1946255e-02  5.1148906e-03 -1.0562398e-02\n",
      "   -4.1208901e-02 -4.3859687e-02  7.1978457e-03  4.9572680e-02\n",
      "    3.8154829e-02  2.6508000e-02]\n",
      "  [ 1.1319708e-02 -4.1946255e-02  5.1148906e-03 -1.0562398e-02\n",
      "   -4.1208901e-02 -4.3859687e-02  7.1978457e-03  4.9572680e-02\n",
      "    3.8154829e-02  2.6508000e-02]\n",
      "  [ 1.1319708e-02 -4.1946255e-02  5.1148906e-03 -1.0562398e-02\n",
      "   -4.1208901e-02 -4.3859687e-02  7.1978457e-03  4.9572680e-02\n",
      "    3.8154829e-02  2.6508000e-02]\n",
      "  [-2.0644559e-02  3.6474112e-02  4.4704441e-02 -4.4284977e-02\n",
      "   -8.0483034e-04 -4.6676852e-02  4.3296520e-02  3.6233995e-02\n",
      "    2.2186767e-02 -1.6484953e-02]\n",
      "  [ 4.1879799e-02 -6.1360113e-03  4.0982638e-02 -1.7715834e-02\n",
      "   -3.4400381e-02 -1.1464465e-02 -3.4655798e-02  3.9976347e-02\n",
      "    3.6352504e-02  4.2302981e-03]\n",
      "  [ 3.4858789e-02 -2.9307544e-02  2.8466512e-02  4.8867550e-02\n",
      "    5.2688345e-03 -4.2973854e-02 -4.8949815e-02 -3.2513488e-02\n",
      "   -3.0623663e-02  4.4793162e-02]\n",
      "  [-3.3751018e-03  1.7475430e-02 -1.3257217e-02  3.7441682e-02\n",
      "    2.6178863e-02  3.0443978e-02  2.9798236e-02 -8.7810159e-03\n",
      "    1.3033140e-02 -4.3279447e-02]\n",
      "  [ 1.1316646e-02 -4.0432714e-02  1.8682990e-02  2.4505902e-02\n",
      "   -7.4347965e-03 -3.7262060e-02 -1.3911448e-02 -2.6480079e-02\n",
      "   -7.5110085e-03 -3.5074841e-02]]\n",
      "\n",
      " [[ 1.1319708e-02 -4.1946255e-02  5.1148906e-03 -1.0562398e-02\n",
      "   -4.1208901e-02 -4.3859687e-02  7.1978457e-03  4.9572680e-02\n",
      "    3.8154829e-02  2.6508000e-02]\n",
      "  [ 1.1319708e-02 -4.1946255e-02  5.1148906e-03 -1.0562398e-02\n",
      "   -4.1208901e-02 -4.3859687e-02  7.1978457e-03  4.9572680e-02\n",
      "    3.8154829e-02  2.6508000e-02]\n",
      "  [ 1.1319708e-02 -4.1946255e-02  5.1148906e-03 -1.0562398e-02\n",
      "   -4.1208901e-02 -4.3859687e-02  7.1978457e-03  4.9572680e-02\n",
      "    3.8154829e-02  2.6508000e-02]\n",
      "  [ 1.1319708e-02 -4.1946255e-02  5.1148906e-03 -1.0562398e-02\n",
      "   -4.1208901e-02 -4.3859687e-02  7.1978457e-03  4.9572680e-02\n",
      "    3.8154829e-02  2.6508000e-02]\n",
      "  [ 3.4241904e-02 -1.1600554e-02  3.1316463e-02  2.6629496e-02\n",
      "    3.8849600e-03  1.9718457e-02  3.1244371e-02  1.2752626e-02\n",
      "    2.5246408e-02 -2.5681509e-02]\n",
      "  [ 4.5535851e-02  2.8060798e-02  3.1864885e-02  8.3159097e-03\n",
      "   -2.6582599e-02 -1.7255940e-02 -1.7424881e-02 -2.3740662e-02\n",
      "    4.0579550e-03  1.3454091e-02]\n",
      "  [ 3.6599886e-02  1.0908358e-03  8.7906606e-03  2.4568234e-02\n",
      "   -4.2062700e-02 -5.0615519e-05  7.7922121e-03 -4.1767083e-02\n",
      "   -3.1971470e-02  1.2599025e-02]\n",
      "  [ 4.6040621e-02 -3.2993425e-02 -3.1653680e-02  3.3098724e-02\n",
      "    3.1781804e-02 -3.9656270e-02  4.6812680e-02 -8.1007555e-04\n",
      "    4.0550139e-02  8.0475695e-03]]\n",
      "\n",
      " [[ 1.1319708e-02 -4.1946255e-02  5.1148906e-03 -1.0562398e-02\n",
      "   -4.1208901e-02 -4.3859687e-02  7.1978457e-03  4.9572680e-02\n",
      "    3.8154829e-02  2.6508000e-02]\n",
      "  [ 1.1319708e-02 -4.1946255e-02  5.1148906e-03 -1.0562398e-02\n",
      "   -4.1208901e-02 -4.3859687e-02  7.1978457e-03  4.9572680e-02\n",
      "    3.8154829e-02  2.6508000e-02]\n",
      "  [ 1.1319708e-02 -4.1946255e-02  5.1148906e-03 -1.0562398e-02\n",
      "   -4.1208901e-02 -4.3859687e-02  7.1978457e-03  4.9572680e-02\n",
      "    3.8154829e-02  2.6508000e-02]\n",
      "  [ 1.1319708e-02 -4.1946255e-02  5.1148906e-03 -1.0562398e-02\n",
      "   -4.1208901e-02 -4.3859687e-02  7.1978457e-03  4.9572680e-02\n",
      "    3.8154829e-02  2.6508000e-02]\n",
      "  [ 1.1319708e-02 -4.1946255e-02  5.1148906e-03 -1.0562398e-02\n",
      "   -4.1208901e-02 -4.3859687e-02  7.1978457e-03  4.9572680e-02\n",
      "    3.8154829e-02  2.6508000e-02]\n",
      "  [-4.1515909e-02  4.9384777e-02  4.8205499e-02 -1.3546754e-02\n",
      "    3.7771735e-02  2.6607100e-02  4.0716562e-02  2.9391434e-02\n",
      "   -3.3612229e-02 -6.2276237e-03]\n",
      "  [ 3.6599886e-02  1.0908358e-03  8.7906606e-03  2.4568234e-02\n",
      "   -4.2062700e-02 -5.0615519e-05  7.7922121e-03 -4.1767083e-02\n",
      "   -3.1971470e-02  1.2599025e-02]\n",
      "  [ 2.4161961e-02  4.8557270e-02 -4.1534089e-02 -5.8437958e-03\n",
      "   -7.5523853e-03  2.2443127e-02 -1.7098438e-02 -3.2099344e-02\n",
      "    2.0931136e-02  3.5246681e-02]]]\n"
     ]
    }
   ],
   "source": [
    "print(\"Predictions:\", prediction)"
   ]
  }
 ],
 "metadata": {
  "kernelspec": {
   "display_name": "tf-macos-env",
   "language": "python",
   "name": "python3"
  },
  "language_info": {
   "codemirror_mode": {
    "name": "ipython",
    "version": 3
   },
   "file_extension": ".py",
   "mimetype": "text/x-python",
   "name": "python",
   "nbconvert_exporter": "python",
   "pygments_lexer": "ipython3",
   "version": "3.11.8"
  }
 },
 "nbformat": 4,
 "nbformat_minor": 2
}
