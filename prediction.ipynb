{
 "cells": [
  {
   "cell_type": "code",
   "execution_count": null,
   "metadata": {},
   "outputs": [],
   "source": [
    "import numpy as np\n",
    "import tensorflow as tf\n",
    "from tensorflow.keras.datasets import imdb\n",
    "from tensorflow.keras.preprocessing import sequence\n",
    "from tensorflow.keras.models import load_model"
   ]
  },
  {
   "cell_type": "code",
   "execution_count": null,
   "metadata": {},
   "outputs": [],
   "source": [
    "# word index\n",
    "\n",
    "wordIndex = imdb.get_word_index()\n",
    "reverseWordIndex = {value: key for key, value in wordIndex.items()}"
   ]
  },
  {
   "cell_type": "code",
   "execution_count": null,
   "metadata": {},
   "outputs": [],
   "source": [
    "# load the model\n",
    "\n",
    "model = load_model('simpleRNN-IMDB.h5')"
   ]
  },
  {
   "cell_type": "code",
   "execution_count": null,
   "metadata": {},
   "outputs": [],
   "source": [
    "model.summary()"
   ]
  },
  {
   "cell_type": "code",
   "execution_count": null,
   "metadata": {},
   "outputs": [],
   "source": [
    "# model.get_weights()"
   ]
  },
  {
   "cell_type": "markdown",
   "metadata": {},
   "source": [
    "## Helper Functions"
   ]
  },
  {
   "cell_type": "code",
   "execution_count": null,
   "metadata": {},
   "outputs": [],
   "source": [
    "# Function To Decode Reviews\n",
    "\n",
    "def decodeReviews(encodedReview): \n",
    "    return ' '.join([reverseWordIndex.get(i - 3,'?') for i in encodedReview])\n"
   ]
  },
  {
   "cell_type": "code",
   "execution_count": null,
   "metadata": {},
   "outputs": [],
   "source": [
    "# Function to preprocess user-input\n",
    "\n",
    "maxLength = 500\n",
    "\n",
    "def preprocessText(text):\n",
    "    words = text.lower().split()\n",
    "    encodedReview = [wordIndex.get(word, 2) + 3 for word in words]\n",
    "    paddedReview = sequence.pad_sequences([encodedReview], maxlen = maxLength)\n",
    "    return paddedReview"
   ]
  },
  {
   "cell_type": "code",
   "execution_count": null,
   "metadata": {},
   "outputs": [],
   "source": [
    "# Prediction Function\n",
    "\n",
    "def predictSentiment(review):\n",
    "    preprocessedInput = preprocessText(review)\n",
    "    prediction = model.predict(preprocessedInput)\n",
    "    sentiment = 'Positive' if prediction[0][0] > 0.5 else 'Negative'\n",
    "    return sentiment, prediction[0][0]"
   ]
  },
  {
   "cell_type": "code",
   "execution_count": null,
   "metadata": {},
   "outputs": [],
   "source": [
    "# Sample User Input and Prediction\n",
    "\n",
    "example = \"This movie was absolutely fantastic. The acting was great, with nice cinematography and character development.\""
   ]
  },
  {
   "cell_type": "code",
   "execution_count": null,
   "metadata": {},
   "outputs": [],
   "source": [
    "sentiment, score = predictSentiment(example)\n",
    "\n",
    "print(f'Review:             {example}')\n",
    "print(f'Sentiment:          {sentiment}')\n",
    "print(f'Prediction Score:   {score}')"
   ]
  }
 ],
 "metadata": {
  "kernelspec": {
   "display_name": "base",
   "language": "python",
   "name": "python3"
  },
  "language_info": {
   "codemirror_mode": {
    "name": "ipython",
    "version": 3
   },
   "file_extension": ".py",
   "mimetype": "text/x-python",
   "name": "python",
   "nbconvert_exporter": "python",
   "pygments_lexer": "ipython3",
   "version": "3.11.8"
  }
 },
 "nbformat": 4,
 "nbformat_minor": 2
}
